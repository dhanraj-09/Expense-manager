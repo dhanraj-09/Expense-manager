{
 "cells": [
  {
   "cell_type": "code",
   "execution_count": 14,
   "metadata": {},
   "outputs": [],
   "source": [
    "import pandas as pd\n",
    "df = pd.read_csv(\"converted.csv\")\n",
    "\n"
   ]
  },
  {
   "cell_type": "code",
   "execution_count": 15,
   "metadata": {},
   "outputs": [
    {
     "data": {
      "text/html": [
       "<div>\n",
       "<style scoped>\n",
       "    .dataframe tbody tr th:only-of-type {\n",
       "        vertical-align: middle;\n",
       "    }\n",
       "\n",
       "    .dataframe tbody tr th {\n",
       "        vertical-align: top;\n",
       "    }\n",
       "\n",
       "    .dataframe thead th {\n",
       "        text-align: right;\n",
       "    }\n",
       "</style>\n",
       "<table border=\"1\" class=\"dataframe\">\n",
       "  <thead>\n",
       "    <tr style=\"text-align: right;\">\n",
       "      <th></th>\n",
       "      <th>Date</th>\n",
       "      <th>Description</th>\n",
       "      <th>Amount</th>\n",
       "      <th>Type</th>\n",
       "    </tr>\n",
       "  </thead>\n",
       "  <tbody>\n",
       "    <tr>\n",
       "      <th>0</th>\n",
       "      <td>04-04-2025</td>\n",
       "      <td>UPI/dhanrajcool09-1/UPI/BANK OF\\rINDIA/1025563...</td>\n",
       "      <td>60.0</td>\n",
       "      <td>DR</td>\n",
       "    </tr>\n",
       "    <tr>\n",
       "      <th>1</th>\n",
       "      <td>03-04-2025</td>\n",
       "      <td>UPI/8763311741@navi/UPI/State\\rBank Of\\rI/5459...</td>\n",
       "      <td>80.0</td>\n",
       "      <td>DR</td>\n",
       "    </tr>\n",
       "    <tr>\n",
       "      <th>2</th>\n",
       "      <td>03-04-2025</td>\n",
       "      <td>UPI/q930168267@ybl/UPI/YES\\rBANK\\rLIMITE/50931...</td>\n",
       "      <td>90.0</td>\n",
       "      <td>DR</td>\n",
       "    </tr>\n",
       "    <tr>\n",
       "      <th>3</th>\n",
       "      <td>03-04-2025</td>\n",
       "      <td>UPI/paytm.d11285986/UPI/YES\\rBANK\\rPTY/5093162...</td>\n",
       "      <td>25.0</td>\n",
       "      <td>DR</td>\n",
       "    </tr>\n",
       "    <tr>\n",
       "      <th>4</th>\n",
       "      <td>03-04-2025</td>\n",
       "      <td>UPI/spotify.bdsi@ic/MandateReque\\rst/ICICI Ban...</td>\n",
       "      <td>59.0</td>\n",
       "      <td>DR</td>\n",
       "    </tr>\n",
       "  </tbody>\n",
       "</table>\n",
       "</div>"
      ],
      "text/plain": [
       "         Date                                        Description  Amount Type\n",
       "0  04-04-2025  UPI/dhanrajcool09-1/UPI/BANK OF\\rINDIA/1025563...    60.0   DR\n",
       "1  03-04-2025  UPI/8763311741@navi/UPI/State\\rBank Of\\rI/5459...    80.0   DR\n",
       "2  03-04-2025  UPI/q930168267@ybl/UPI/YES\\rBANK\\rLIMITE/50931...    90.0   DR\n",
       "3  03-04-2025  UPI/paytm.d11285986/UPI/YES\\rBANK\\rPTY/5093162...    25.0   DR\n",
       "4  03-04-2025  UPI/spotify.bdsi@ic/MandateReque\\rst/ICICI Ban...    59.0   DR"
      ]
     },
     "execution_count": 15,
     "metadata": {},
     "output_type": "execute_result"
    }
   ],
   "source": [
    "df.head()"
   ]
  },
  {
   "cell_type": "code",
   "execution_count": 16,
   "metadata": {},
   "outputs": [],
   "source": [
    "df['UPI ID'] = df['Description'].str.extract(r'UPI/([^/]+)/')\n"
   ]
  },
  {
   "cell_type": "code",
   "execution_count": 17,
   "metadata": {},
   "outputs": [],
   "source": [
    "df.drop([\"Description\"], axis = 1, inplace = True)"
   ]
  },
  {
   "cell_type": "code",
   "execution_count": 18,
   "metadata": {},
   "outputs": [
    {
     "data": {
      "text/html": [
       "<div>\n",
       "<style scoped>\n",
       "    .dataframe tbody tr th:only-of-type {\n",
       "        vertical-align: middle;\n",
       "    }\n",
       "\n",
       "    .dataframe tbody tr th {\n",
       "        vertical-align: top;\n",
       "    }\n",
       "\n",
       "    .dataframe thead th {\n",
       "        text-align: right;\n",
       "    }\n",
       "</style>\n",
       "<table border=\"1\" class=\"dataframe\">\n",
       "  <thead>\n",
       "    <tr style=\"text-align: right;\">\n",
       "      <th></th>\n",
       "      <th>Date</th>\n",
       "      <th>Amount</th>\n",
       "      <th>Type</th>\n",
       "      <th>UPI ID</th>\n",
       "    </tr>\n",
       "  </thead>\n",
       "  <tbody>\n",
       "    <tr>\n",
       "      <th>0</th>\n",
       "      <td>04-04-2025</td>\n",
       "      <td>60.0</td>\n",
       "      <td>DR</td>\n",
       "      <td>dhanrajcool09-1</td>\n",
       "    </tr>\n",
       "    <tr>\n",
       "      <th>1</th>\n",
       "      <td>03-04-2025</td>\n",
       "      <td>80.0</td>\n",
       "      <td>DR</td>\n",
       "      <td>8763311741@navi</td>\n",
       "    </tr>\n",
       "    <tr>\n",
       "      <th>2</th>\n",
       "      <td>03-04-2025</td>\n",
       "      <td>90.0</td>\n",
       "      <td>DR</td>\n",
       "      <td>q930168267@ybl</td>\n",
       "    </tr>\n",
       "    <tr>\n",
       "      <th>3</th>\n",
       "      <td>03-04-2025</td>\n",
       "      <td>25.0</td>\n",
       "      <td>DR</td>\n",
       "      <td>paytm.d11285986</td>\n",
       "    </tr>\n",
       "    <tr>\n",
       "      <th>4</th>\n",
       "      <td>03-04-2025</td>\n",
       "      <td>59.0</td>\n",
       "      <td>DR</td>\n",
       "      <td>spotify.bdsi@ic</td>\n",
       "    </tr>\n",
       "  </tbody>\n",
       "</table>\n",
       "</div>"
      ],
      "text/plain": [
       "         Date  Amount Type           UPI ID\n",
       "0  04-04-2025    60.0   DR  dhanrajcool09-1\n",
       "1  03-04-2025    80.0   DR  8763311741@navi\n",
       "2  03-04-2025    90.0   DR   q930168267@ybl\n",
       "3  03-04-2025    25.0   DR  paytm.d11285986\n",
       "4  03-04-2025    59.0   DR  spotify.bdsi@ic"
      ]
     },
     "execution_count": 18,
     "metadata": {},
     "output_type": "execute_result"
    }
   ],
   "source": [
    "df.head()"
   ]
  },
  {
   "cell_type": "code",
   "execution_count": 19,
   "metadata": {},
   "outputs": [
    {
     "data": {
      "text/plain": [
       "array(['dhanrajcool09-1', '8763311741@navi', 'q930168267@ybl',\n",
       "       'paytm.d11285986', 'spotify.bdsi@ic', 'q775938038@ybl',\n",
       "       'paytmqr28100505', 'aptextilespvtlt', '7974720425@navi',\n",
       "       'hiox2004@okicic', 'ameyabakshi09@o', '9810631989@ptsb',\n",
       "       'paytm.s12t4fi@p', 'q758024703@ybl', 'paytmqr5zir4g@p',\n",
       "       'bharatpe907h7g2', 'q479695017@ybl', 'vyapar.16814142',\n",
       "       'q403933972@ybl', '966757327@ibl', '9810631989@pthd',\n",
       "       'paytmqr5w271n@p', '8824988419@ybl', 'bharatpe907e7h2', nan,\n",
       "       'burgerfarmindia', '9579956189@ptax', 'q270917636@ybl',\n",
       "       'paytm.s12d6ab@p', 'paytmqr5jtzjb@p', '9579956189@pthd',\n",
       "       '9579956189@ptsb', 'paytm.s127u0z@p', 'paytmqr631hi5@p',\n",
       "       '9810631989@ptye', 'paytmqr1jqz470z', '8296868208@ptax',\n",
       "       'q673970063@ybl', 'bharatpe.9w0u0w', '9899657105@ptsb',\n",
       "       'zoro.sanji12op@', 'paytmqr1at2zpmt', 'paytmqr10e79o@p',\n",
       "       'paytmqr171eddzx', 'paytm.s101k8r@p', 'lizalmn14@okhdf',\n",
       "       '9899657105@pthd', 'paytra1599@ptyb', 'mohithingorani2',\n",
       "       '9811033533@ptsb', 'samakshgupta04@', 'q583021683@ybl',\n",
       "       'q856561601@ybl', '9810631989@ptax', 'amazon@rapl',\n",
       "       'payzomato@hdfcb', 'paytmqrhq843xiu', 'q119738775@ybl',\n",
       "       'redtapeshoes.63', 'paytmqr1hijd2yt', 'paytmqrsjcsc4cg',\n",
       "       'q249604487@ybl', 'paytm.s1025yq@p', 'paytmqr5d3qqh@p',\n",
       "       'paytm.s12u7g1@p', 'paytmqr58afeb@p', 'paytmqr67agj4@p',\n",
       "       'q402439967@ybl', 'q778946007@ybl', 'aryanvohraplayz',\n",
       "       '9811033533@pthd', 'rishabhrk9901@o', 'q642823562@ybl',\n",
       "       'q506811679@ybl', 'paytmqr5ys9d4@p', 'paytmqr5cqn0o@p',\n",
       "       '9811033533@ptye', 'q062288990@ybl', 'q833961612@ybl',\n",
       "       'q263763330@ybl', 'irctc89.paytm@h', 'alois0711@okhdf',\n",
       "       'q755719650@ybl'], dtype=object)"
      ]
     },
     "execution_count": 19,
     "metadata": {},
     "output_type": "execute_result"
    }
   ],
   "source": [
    "df['UPI ID'].unique()"
   ]
  },
  {
   "cell_type": "code",
   "execution_count": 20,
   "metadata": {},
   "outputs": [
    {
     "name": "stdout",
     "output_type": "stream",
     "text": [
      "<class 'pandas.core.frame.DataFrame'>\n",
      "RangeIndex: 152 entries, 0 to 151\n",
      "Data columns (total 4 columns):\n",
      " #   Column  Non-Null Count  Dtype  \n",
      "---  ------  --------------  -----  \n",
      " 0   Date    152 non-null    object \n",
      " 1   Amount  152 non-null    float64\n",
      " 2   Type    152 non-null    object \n",
      " 3   UPI ID  151 non-null    object \n",
      "dtypes: float64(1), object(3)\n",
      "memory usage: 4.9+ KB\n"
     ]
    }
   ],
   "source": [
    "df.info()"
   ]
  },
  {
   "cell_type": "code",
   "execution_count": 22,
   "metadata": {},
   "outputs": [
    {
     "name": "stderr",
     "output_type": "stream",
     "text": [
      "C:\\Users\\Rushil Misra\\AppData\\Local\\Temp\\ipykernel_19140\\3458004630.py:1: FutureWarning: A value is trying to be set on a copy of a DataFrame or Series through chained assignment using an inplace method.\n",
      "The behavior will change in pandas 3.0. This inplace method will never work because the intermediate object on which we are setting values always behaves as a copy.\n",
      "\n",
      "For example, when doing 'df[col].method(value, inplace=True)', try using 'df.method({col: value}, inplace=True)' or df[col] = df[col].method(value) instead, to perform the operation inplace on the original object.\n",
      "\n",
      "\n",
      "  df['UPI ID'].fillna(\"Not a UPI Transaction\", inplace=True)\n"
     ]
    }
   ],
   "source": [
    "df['UPI ID'].fillna(\"Not a UPI Transaction\", inplace=True)\n"
   ]
  },
  {
   "cell_type": "code",
   "execution_count": 23,
   "metadata": {},
   "outputs": [
    {
     "name": "stdout",
     "output_type": "stream",
     "text": [
      "<class 'pandas.core.frame.DataFrame'>\n",
      "RangeIndex: 152 entries, 0 to 151\n",
      "Data columns (total 4 columns):\n",
      " #   Column  Non-Null Count  Dtype  \n",
      "---  ------  --------------  -----  \n",
      " 0   Date    152 non-null    object \n",
      " 1   Amount  152 non-null    float64\n",
      " 2   Type    152 non-null    object \n",
      " 3   UPI ID  152 non-null    object \n",
      "dtypes: float64(1), object(3)\n",
      "memory usage: 4.9+ KB\n"
     ]
    }
   ],
   "source": [
    "df.info()"
   ]
  },
  {
   "cell_type": "code",
   "execution_count": 24,
   "metadata": {},
   "outputs": [
    {
     "data": {
      "text/html": [
       "<div>\n",
       "<style scoped>\n",
       "    .dataframe tbody tr th:only-of-type {\n",
       "        vertical-align: middle;\n",
       "    }\n",
       "\n",
       "    .dataframe tbody tr th {\n",
       "        vertical-align: top;\n",
       "    }\n",
       "\n",
       "    .dataframe thead th {\n",
       "        text-align: right;\n",
       "    }\n",
       "</style>\n",
       "<table border=\"1\" class=\"dataframe\">\n",
       "  <thead>\n",
       "    <tr style=\"text-align: right;\">\n",
       "      <th></th>\n",
       "      <th>Date</th>\n",
       "      <th>Amount</th>\n",
       "      <th>Type</th>\n",
       "      <th>UPI ID</th>\n",
       "    </tr>\n",
       "  </thead>\n",
       "  <tbody>\n",
       "    <tr>\n",
       "      <th>0</th>\n",
       "      <td>04-04-2025</td>\n",
       "      <td>60.0</td>\n",
       "      <td>DR</td>\n",
       "      <td>dhanrajcool09-1</td>\n",
       "    </tr>\n",
       "    <tr>\n",
       "      <th>1</th>\n",
       "      <td>03-04-2025</td>\n",
       "      <td>80.0</td>\n",
       "      <td>DR</td>\n",
       "      <td>8763311741@navi</td>\n",
       "    </tr>\n",
       "    <tr>\n",
       "      <th>2</th>\n",
       "      <td>03-04-2025</td>\n",
       "      <td>90.0</td>\n",
       "      <td>DR</td>\n",
       "      <td>q930168267@ybl</td>\n",
       "    </tr>\n",
       "    <tr>\n",
       "      <th>3</th>\n",
       "      <td>03-04-2025</td>\n",
       "      <td>25.0</td>\n",
       "      <td>DR</td>\n",
       "      <td>paytm.d11285986</td>\n",
       "    </tr>\n",
       "    <tr>\n",
       "      <th>4</th>\n",
       "      <td>03-04-2025</td>\n",
       "      <td>59.0</td>\n",
       "      <td>DR</td>\n",
       "      <td>spotify.bdsi@ic</td>\n",
       "    </tr>\n",
       "  </tbody>\n",
       "</table>\n",
       "</div>"
      ],
      "text/plain": [
       "         Date  Amount Type           UPI ID\n",
       "0  04-04-2025    60.0   DR  dhanrajcool09-1\n",
       "1  03-04-2025    80.0   DR  8763311741@navi\n",
       "2  03-04-2025    90.0   DR   q930168267@ybl\n",
       "3  03-04-2025    25.0   DR  paytm.d11285986\n",
       "4  03-04-2025    59.0   DR  spotify.bdsi@ic"
      ]
     },
     "execution_count": 24,
     "metadata": {},
     "output_type": "execute_result"
    }
   ],
   "source": [
    "df.head()"
   ]
  },
  {
   "cell_type": "code",
   "execution_count": 25,
   "metadata": {},
   "outputs": [
    {
     "data": {
      "text/plain": [
       "array(['DR', 'CR'], dtype=object)"
      ]
     },
     "execution_count": 25,
     "metadata": {},
     "output_type": "execute_result"
    }
   ],
   "source": [
    "df['Type'].unique()"
   ]
  },
  {
   "cell_type": "code",
   "execution_count": 42,
   "metadata": {},
   "outputs": [],
   "source": [
    "df['Date'] = pd.to_datetime(df['Date'], format='%d-%m-%Y')\n"
   ]
  },
  {
   "cell_type": "code",
   "execution_count": 44,
   "metadata": {},
   "outputs": [
    {
     "data": {
      "text/plain": [
       "Date      datetime64[ns]\n",
       "Amount           float64\n",
       "Type              object\n",
       "UPI ID            object\n",
       "dtype: object"
      ]
     },
     "execution_count": 44,
     "metadata": {},
     "output_type": "execute_result"
    }
   ],
   "source": [
    "df.dtypes"
   ]
  },
  {
   "cell_type": "code",
   "execution_count": 45,
   "metadata": {},
   "outputs": [],
   "source": [
    "df['Day_Number'] = df['Date'].dt.day\n"
   ]
  },
  {
   "cell_type": "code",
   "execution_count": 46,
   "metadata": {},
   "outputs": [
    {
     "data": {
      "text/html": [
       "<div>\n",
       "<style scoped>\n",
       "    .dataframe tbody tr th:only-of-type {\n",
       "        vertical-align: middle;\n",
       "    }\n",
       "\n",
       "    .dataframe tbody tr th {\n",
       "        vertical-align: top;\n",
       "    }\n",
       "\n",
       "    .dataframe thead th {\n",
       "        text-align: right;\n",
       "    }\n",
       "</style>\n",
       "<table border=\"1\" class=\"dataframe\">\n",
       "  <thead>\n",
       "    <tr style=\"text-align: right;\">\n",
       "      <th></th>\n",
       "      <th>Date</th>\n",
       "      <th>Amount</th>\n",
       "      <th>Type</th>\n",
       "      <th>UPI ID</th>\n",
       "      <th>Day_Number</th>\n",
       "    </tr>\n",
       "  </thead>\n",
       "  <tbody>\n",
       "    <tr>\n",
       "      <th>0</th>\n",
       "      <td>2025-04-04</td>\n",
       "      <td>60.0</td>\n",
       "      <td>DR</td>\n",
       "      <td>dhanrajcool09-1</td>\n",
       "      <td>4</td>\n",
       "    </tr>\n",
       "    <tr>\n",
       "      <th>1</th>\n",
       "      <td>2025-04-03</td>\n",
       "      <td>80.0</td>\n",
       "      <td>DR</td>\n",
       "      <td>8763311741@navi</td>\n",
       "      <td>3</td>\n",
       "    </tr>\n",
       "    <tr>\n",
       "      <th>2</th>\n",
       "      <td>2025-04-03</td>\n",
       "      <td>90.0</td>\n",
       "      <td>DR</td>\n",
       "      <td>q930168267@ybl</td>\n",
       "      <td>3</td>\n",
       "    </tr>\n",
       "    <tr>\n",
       "      <th>3</th>\n",
       "      <td>2025-04-03</td>\n",
       "      <td>25.0</td>\n",
       "      <td>DR</td>\n",
       "      <td>paytm.d11285986</td>\n",
       "      <td>3</td>\n",
       "    </tr>\n",
       "    <tr>\n",
       "      <th>4</th>\n",
       "      <td>2025-04-03</td>\n",
       "      <td>59.0</td>\n",
       "      <td>DR</td>\n",
       "      <td>spotify.bdsi@ic</td>\n",
       "      <td>3</td>\n",
       "    </tr>\n",
       "  </tbody>\n",
       "</table>\n",
       "</div>"
      ],
      "text/plain": [
       "        Date  Amount Type           UPI ID  Day_Number\n",
       "0 2025-04-04    60.0   DR  dhanrajcool09-1           4\n",
       "1 2025-04-03    80.0   DR  8763311741@navi           3\n",
       "2 2025-04-03    90.0   DR   q930168267@ybl           3\n",
       "3 2025-04-03    25.0   DR  paytm.d11285986           3\n",
       "4 2025-04-03    59.0   DR  spotify.bdsi@ic           3"
      ]
     },
     "execution_count": 46,
     "metadata": {},
     "output_type": "execute_result"
    }
   ],
   "source": [
    "df.head()"
   ]
  },
  {
   "cell_type": "code",
   "execution_count": 47,
   "metadata": {},
   "outputs": [],
   "source": [
    "df.drop(['Date'],axis =1, inplace = True)"
   ]
  },
  {
   "cell_type": "code",
   "execution_count": 26,
   "metadata": {},
   "outputs": [],
   "source": [
    "df_debit = df[df['Type'] == \"DR\"]\n",
    "df_credit = df[df[\"Type\"] == 'CR']\n"
   ]
  },
  {
   "cell_type": "code",
   "execution_count": 27,
   "metadata": {},
   "outputs": [
    {
     "data": {
      "text/html": [
       "<div>\n",
       "<style scoped>\n",
       "    .dataframe tbody tr th:only-of-type {\n",
       "        vertical-align: middle;\n",
       "    }\n",
       "\n",
       "    .dataframe tbody tr th {\n",
       "        vertical-align: top;\n",
       "    }\n",
       "\n",
       "    .dataframe thead th {\n",
       "        text-align: right;\n",
       "    }\n",
       "</style>\n",
       "<table border=\"1\" class=\"dataframe\">\n",
       "  <thead>\n",
       "    <tr style=\"text-align: right;\">\n",
       "      <th></th>\n",
       "      <th>Date</th>\n",
       "      <th>Amount</th>\n",
       "      <th>Type</th>\n",
       "      <th>UPI ID</th>\n",
       "    </tr>\n",
       "  </thead>\n",
       "  <tbody>\n",
       "    <tr>\n",
       "      <th>0</th>\n",
       "      <td>04-04-2025</td>\n",
       "      <td>60.0</td>\n",
       "      <td>DR</td>\n",
       "      <td>dhanrajcool09-1</td>\n",
       "    </tr>\n",
       "    <tr>\n",
       "      <th>1</th>\n",
       "      <td>03-04-2025</td>\n",
       "      <td>80.0</td>\n",
       "      <td>DR</td>\n",
       "      <td>8763311741@navi</td>\n",
       "    </tr>\n",
       "    <tr>\n",
       "      <th>2</th>\n",
       "      <td>03-04-2025</td>\n",
       "      <td>90.0</td>\n",
       "      <td>DR</td>\n",
       "      <td>q930168267@ybl</td>\n",
       "    </tr>\n",
       "    <tr>\n",
       "      <th>3</th>\n",
       "      <td>03-04-2025</td>\n",
       "      <td>25.0</td>\n",
       "      <td>DR</td>\n",
       "      <td>paytm.d11285986</td>\n",
       "    </tr>\n",
       "    <tr>\n",
       "      <th>4</th>\n",
       "      <td>03-04-2025</td>\n",
       "      <td>59.0</td>\n",
       "      <td>DR</td>\n",
       "      <td>spotify.bdsi@ic</td>\n",
       "    </tr>\n",
       "  </tbody>\n",
       "</table>\n",
       "</div>"
      ],
      "text/plain": [
       "         Date  Amount Type           UPI ID\n",
       "0  04-04-2025    60.0   DR  dhanrajcool09-1\n",
       "1  03-04-2025    80.0   DR  8763311741@navi\n",
       "2  03-04-2025    90.0   DR   q930168267@ybl\n",
       "3  03-04-2025    25.0   DR  paytm.d11285986\n",
       "4  03-04-2025    59.0   DR  spotify.bdsi@ic"
      ]
     },
     "execution_count": 27,
     "metadata": {},
     "output_type": "execute_result"
    }
   ],
   "source": [
    "df_debit.head()"
   ]
  },
  {
   "cell_type": "code",
   "execution_count": 48,
   "metadata": {},
   "outputs": [
    {
     "data": {
      "text/plain": [
       "Amount        float64\n",
       "Type           object\n",
       "UPI ID         object\n",
       "Day_Number      int32\n",
       "dtype: object"
      ]
     },
     "execution_count": 48,
     "metadata": {},
     "output_type": "execute_result"
    }
   ],
   "source": [
    "df.dtypes"
   ]
  },
  {
   "cell_type": "code",
   "execution_count": 29,
   "metadata": {},
   "outputs": [
    {
     "ename": "ModuleNotFoundError",
     "evalue": "No module named 'seaborn'",
     "output_type": "error",
     "traceback": [
      "\u001b[31m---------------------------------------------------------------------------\u001b[39m",
      "\u001b[31mModuleNotFoundError\u001b[39m                       Traceback (most recent call last)",
      "\u001b[36mCell\u001b[39m\u001b[36m \u001b[39m\u001b[32mIn[29]\u001b[39m\u001b[32m, line 2\u001b[39m\n\u001b[32m      1\u001b[39m \u001b[38;5;28;01mimport\u001b[39;00m\u001b[38;5;250m \u001b[39m\u001b[34;01mmatplotlib\u001b[39;00m\u001b[34;01m.\u001b[39;00m\u001b[34;01mpyplot\u001b[39;00m\u001b[38;5;250m \u001b[39m\u001b[38;5;28;01mas\u001b[39;00m\u001b[38;5;250m \u001b[39m\u001b[34;01mplt\u001b[39;00m\n\u001b[32m----> \u001b[39m\u001b[32m2\u001b[39m \u001b[38;5;28;01mimport\u001b[39;00m\u001b[38;5;250m \u001b[39m\u001b[34;01mseaborn\u001b[39;00m\u001b[38;5;250m \u001b[39m\u001b[38;5;28;01mas\u001b[39;00m\u001b[38;5;250m \u001b[39m\u001b[34;01msns\u001b[39;00m\n",
      "\u001b[31mModuleNotFoundError\u001b[39m: No module named 'seaborn'"
     ]
    }
   ],
   "source": [
    "import matplotlib.pyplot as plt\n",
    "import seaborn as sns"
   ]
  },
  {
   "cell_type": "code",
   "execution_count": 35,
   "metadata": {},
   "outputs": [
    {
     "data": {
      "image/png": "[encoded data removed]",
      "text/plain": [
       "<Figure size 640x480 with 1 Axes>"
      ]
     },
     "metadata": {},
     "output_type": "display_data"
    },
    {
     "data": {
      "text/plain": [
       "<Figure size 2000x2000 with 0 Axes>"
      ]
     },
     "metadata": {},
     "output_type": "display_data"
    }
   ],
   "source": [
    "plt.plot(df[\"Amount\"])\n",
    "plt.xticks(rotation=20)\n",
    "plt.figure(figsize = (20, 20))\n",
    "plt.show()"
   ]
  },
  {
   "cell_type": "code",
   "execution_count": 65,
   "metadata": {},
   "outputs": [
    {
     "data": {
      "text/html": [
       "<div>\n",
       "<style scoped>\n",
       "    .dataframe tbody tr th:only-of-type {\n",
       "        vertical-align: middle;\n",
       "    }\n",
       "\n",
       "    .dataframe tbody tr th {\n",
       "        vertical-align: top;\n",
       "    }\n",
       "\n",
       "    .dataframe thead th {\n",
       "        text-align: right;\n",
       "    }\n",
       "</style>\n",
       "<table border=\"1\" class=\"dataframe\">\n",
       "  <thead>\n",
       "    <tr style=\"text-align: right;\">\n",
       "      <th></th>\n",
       "      <th>Day_number</th>\n",
       "      <th>Amount</th>\n",
       "    </tr>\n",
       "  </thead>\n",
       "  <tbody>\n",
       "    <tr>\n",
       "      <th>0</th>\n",
       "      <td>4</td>\n",
       "      <td>60.0</td>\n",
       "    </tr>\n",
       "    <tr>\n",
       "      <th>1</th>\n",
       "      <td>3</td>\n",
       "      <td>80.0</td>\n",
       "    </tr>\n",
       "    <tr>\n",
       "      <th>2</th>\n",
       "      <td>3</td>\n",
       "      <td>90.0</td>\n",
       "    </tr>\n",
       "    <tr>\n",
       "      <th>3</th>\n",
       "      <td>3</td>\n",
       "      <td>25.0</td>\n",
       "    </tr>\n",
       "    <tr>\n",
       "      <th>4</th>\n",
       "      <td>3</td>\n",
       "      <td>59.0</td>\n",
       "    </tr>\n",
       "  </tbody>\n",
       "</table>\n",
       "</div>"
      ],
      "text/plain": [
       "   Day_number  Amount\n",
       "0           4    60.0\n",
       "1           3    80.0\n",
       "2           3    90.0\n",
       "3           3    25.0\n",
       "4           3    59.0"
      ]
     },
     "execution_count": 65,
     "metadata": {},
     "output_type": "execute_result"
    }
   ],
   "source": [
    "df_debit_val = pd.DataFrame()\n",
    "df_debit_val['Day_number'] = df['Day_Number']\n",
    "df_debit_val['Amount'] = df['Amount']\n",
    "df_debit_val.head()"
   ]
  },
  {
   "cell_type": "code",
   "execution_count": 69,
   "metadata": {},
   "outputs": [
    {
     "data": {
      "image/png": "[encoded data removed]",
      "text/plain": [
       "<Figure size 640x480 with 1 Axes>"
      ]
     },
     "metadata": {},
     "output_type": "display_data"
    }
   ],
   "source": [
    "rollingseries = df_debit['Amount'].rolling(window=5)\n",
    "rollingmean = rollingseries.mean() #we can compute any statistical measure\n",
    "#print(rollingmean.head(10))\n",
    "rollingmean.plot(color=\"red\")\n",
    "plt.show()"
   ]
  },
  {
   "cell_type": "code",
   "execution_count": 71,
   "metadata": {},
   "outputs": [],
   "source": [
    "from statsmodels.tsa.holtwinters import Holt\n"
   ]
  },
  {
   "cell_type": "code",
   "execution_count": 77,
   "metadata": {},
   "outputs": [
    {
     "data": {
      "text/plain": [
       "array([[4.00000e+00, 6.00000e+01],\n",
       "       [3.00000e+00, 8.00000e+01],\n",
       "       [3.00000e+00, 9.00000e+01],\n",
       "       [3.00000e+00, 2.50000e+01],\n",
       "       [3.00000e+00, 5.90000e+01],\n",
       "       [2.00000e+00, 2.00000e+02],\n",
       "       [2.00000e+00, 3.90000e+02],\n",
       "       [2.00000e+00, 7.00000e+01],\n",
       "       [2.00000e+00, 7.00000e+02],\n",
       "       [2.00000e+00, 6.00000e+01],\n",
       "       [2.00000e+00, 5.00000e+02],\n",
       "       [2.00000e+00, 1.00000e+03],\n",
       "       [2.00000e+00, 1.20000e+01],\n",
       "       [1.00000e+00, 4.00000e+02],\n",
       "       [1.00000e+00, 5.50000e+03],\n",
       "       [1.00000e+00, 2.00000e+00],\n",
       "       [1.00000e+00, 7.50000e+01],\n",
       "       [1.00000e+00, 2.00000e+01],\n",
       "       [1.00000e+00, 8.00000e+01],\n",
       "       [3.10000e+01, 8.50000e+01],\n",
       "       [3.10000e+01, 7.50000e+01],\n",
       "       [3.10000e+01, 7.00000e+01],\n",
       "       [3.10000e+01, 2.50000e+02],\n",
       "       [3.10000e+01, 2.00000e+01],\n",
       "       [3.10000e+01, 3.00000e+02],\n",
       "       [3.10000e+01, 1.00000e+03],\n",
       "       [2.90000e+01, 2.00000e+01],\n",
       "       [2.90000e+01, 2.00000e+01],\n",
       "       [2.90000e+01, 2.00000e+01],\n",
       "       [2.90000e+01, 7.00000e+00],\n",
       "       [2.80000e+01, 3.00300e+02],\n",
       "       [2.80000e+01, 1.90000e+02],\n",
       "       [2.80000e+01, 2.00000e+01],\n",
       "       [2.80000e+01, 2.20000e+02],\n",
       "       [2.80000e+01, 3.50000e+02],\n",
       "       [2.80000e+01, 9.70000e+01],\n",
       "       [2.80000e+01, 9.50000e+02],\n",
       "       [2.80000e+01, 4.50000e+02],\n",
       "       [2.80000e+01, 1.70000e+02],\n",
       "       [2.80000e+01, 4.00000e+01],\n",
       "       [2.80000e+01, 3.00000e+02],\n",
       "       [2.80000e+01, 2.00000e+02],\n",
       "       [2.80000e+01, 2.00000e+01],\n",
       "       [2.80000e+01, 1.00000e+03],\n",
       "       [2.80000e+01, 4.00000e+01],\n",
       "       [2.70000e+01, 2.00000e+01],\n",
       "       [2.70000e+01, 7.00000e+01],\n",
       "       [2.70000e+01, 1.00000e+02],\n",
       "       [2.60000e+01, 7.00000e+01],\n",
       "       [2.60000e+01, 1.40000e+02],\n",
       "       [2.50000e+01, 1.70000e+02],\n",
       "       [2.50000e+01, 3.00000e+01],\n",
       "       [2.50000e+01, 6.00000e+01],\n",
       "       [2.50000e+01, 2.00000e+00],\n",
       "       [2.50000e+01, 5.00000e+02],\n",
       "       [2.30000e+01, 4.00000e+02],\n",
       "       [2.30000e+01, 4.00000e+02],\n",
       "       [2.30000e+01, 4.00000e+01],\n",
       "       [2.30000e+01, 4.00000e+01],\n",
       "       [2.30000e+01, 4.00000e+01],\n",
       "       [2.30000e+01, 4.00000e+01],\n",
       "       [2.10000e+01, 2.50000e+02],\n",
       "       [2.00000e+01, 5.80000e+02],\n",
       "       [2.00000e+01, 4.00000e+01],\n",
       "       [2.00000e+01, 1.50000e+02],\n",
       "       [2.00000e+01, 4.00000e+01],\n",
       "       [2.00000e+01, 1.50000e+02],\n",
       "       [2.00000e+01, 3.40000e+02],\n",
       "       [2.00000e+01, 4.00000e+01],\n",
       "       [2.00000e+01, 1.40000e+02],\n",
       "       [2.00000e+01, 1.20000e+02],\n",
       "       [2.00000e+01, 2.80000e+02],\n",
       "       [2.00000e+01, 8.00000e+01],\n",
       "       [2.00000e+01, 2.40000e+02],\n",
       "       [2.00000e+01, 2.90000e+02],\n",
       "       [2.00000e+01, 6.00000e+01],\n",
       "       [2.00000e+01, 7.00000e+01],\n",
       "       [2.00000e+01, 6.25000e+02],\n",
       "       [2.00000e+01, 2.00000e+03],\n",
       "       [2.00000e+01, 1.79630e+03],\n",
       "       [2.00000e+01, 3.20000e+02],\n",
       "       [1.90000e+01, 2.10000e+02],\n",
       "       [1.90000e+01, 1.00000e+00],\n",
       "       [1.80000e+01, 3.00000e+02],\n",
       "       [1.80000e+01, 3.30000e+02],\n",
       "       [1.80000e+01, 7.00000e+02],\n",
       "       [1.80000e+01, 1.10000e+02],\n",
       "       [1.80000e+01, 5.00000e+03],\n",
       "       [1.60000e+01, 9.90000e+01],\n",
       "       [1.60000e+01, 8.35850e+02],\n",
       "       [1.60000e+01, 1.05000e+03],\n",
       "       [1.40000e+01, 1.43800e+03],\n",
       "       [1.30000e+01, 2.21000e+02],\n",
       "       [1.30000e+01, 4.27000e+02],\n",
       "       [1.30000e+01, 1.83600e+03],\n",
       "       [1.30000e+01, 3.00000e+03],\n",
       "       [1.20000e+01, 4.19000e+02],\n",
       "       [1.20000e+01, 2.68000e+02],\n",
       "       [1.20000e+01, 2.40000e+02],\n",
       "       [1.20000e+01, 7.00000e+01],\n",
       "       [1.20000e+01, 2.10000e+02],\n",
       "       [1.20000e+01, 5.00000e+01],\n",
       "       [1.20000e+01, 4.80000e+02],\n",
       "       [1.20000e+01, 2.00000e+03],\n",
       "       [1.20000e+01, 3.40000e+02],\n",
       "       [1.20000e+01, 1.00000e+03],\n",
       "       [1.10000e+01, 7.10000e+02],\n",
       "       [1.10000e+01, 2.00000e+01],\n",
       "       [1.10000e+01, 6.15280e+02],\n",
       "       [1.10000e+01, 1.50000e+03],\n",
       "       [1.10000e+01, 1.00000e+02],\n",
       "       [1.10000e+01, 1.00000e+02],\n",
       "       [1.10000e+01, 1.30000e+02],\n",
       "       [1.10000e+01, 8.00000e+00],\n",
       "       [1.00000e+01, 1.20000e+02],\n",
       "       [1.00000e+01, 2.00000e+01],\n",
       "       [1.00000e+01, 1.00000e+02],\n",
       "       [1.00000e+01, 4.40000e+02],\n",
       "       [1.00000e+01, 3.40000e+02],\n",
       "       [1.00000e+01, 1.90000e+02],\n",
       "       [1.00000e+01, 4.00000e+01],\n",
       "       [1.00000e+01, 8.00000e+01],\n",
       "       [1.00000e+01, 4.00000e+01],\n",
       "       [1.00000e+01, 1.00000e+03],\n",
       "       [9.00000e+00, 2.30000e+02],\n",
       "       [9.00000e+00, 7.00000e+01],\n",
       "       [9.00000e+00, 9.00000e+01],\n",
       "       [9.00000e+00, 5.00000e+02],\n",
       "       [8.00000e+00, 1.00000e+02],\n",
       "       [8.00000e+00, 2.00000e+02],\n",
       "       [8.00000e+00, 1.00000e+02],\n",
       "       [8.00000e+00, 1.16000e+02],\n",
       "       [7.00000e+00, 1.00000e+03],\n",
       "       [7.00000e+00, 8.00000e+01],\n",
       "       [7.00000e+00, 2.00000e+01],\n",
       "       [7.00000e+00, 5.00000e+01],\n",
       "       [7.00000e+00, 7.00000e+01],\n",
       "       [7.00000e+00, 7.00000e+01],\n",
       "       [6.00000e+00, 7.00000e+01],\n",
       "       [6.00000e+00, 9.90000e+01],\n",
       "       [6.00000e+00, 1.36000e+02],\n",
       "       [6.00000e+00, 1.50000e+02],\n",
       "       [5.00000e+00, 2.00000e+01],\n",
       "       [5.00000e+00, 2.35674e+03],\n",
       "       [5.00000e+00, 1.57000e+03],\n",
       "       [5.00000e+00, 1.00000e+03],\n",
       "       [5.00000e+00, 1.35000e+02],\n",
       "       [5.00000e+00, 7.00000e+01],\n",
       "       [4.00000e+00, 1.40000e+02],\n",
       "       [4.00000e+00, 4.20000e+01],\n",
       "       [4.00000e+00, 2.00000e+01],\n",
       "       [4.00000e+00, 2.00000e+01]])"
      ]
     },
     "execution_count": 77,
     "metadata": {},
     "output_type": "execute_result"
    }
   ],
   "source": [
    "import numpy as np\n",
    "np.asarray(df_debit_val)"
   ]
  },
  {
   "cell_type": "code",
   "execution_count": null,
   "metadata": {},
   "outputs": [],
   "source": [
    "\t"
   ]
  },
  {
   "cell_type": "code",
   "execution_count": 78,
   "metadata": {},
   "outputs": [
    {
     "ename": "ValueError",
     "evalue": "endog is required to have ndim 1 but has ndim 2",
     "output_type": "error",
     "traceback": [
      "\u001b[31m---------------------------------------------------------------------------\u001b[39m",
      "\u001b[31mValueError\u001b[39m                                Traceback (most recent call last)",
      "\u001b[36mCell\u001b[39m\u001b[36m \u001b[39m\u001b[32mIn[78]\u001b[39m\u001b[32m, line 1\u001b[39m\n\u001b[32m----> \u001b[39m\u001b[32m1\u001b[39m fit1 = \u001b[43mHolt\u001b[49m\u001b[43m(\u001b[49m\u001b[43mdf_debit_val\u001b[49m\u001b[43m)\u001b[49m.fit()  \u001b[38;5;66;03m#linear trend\u001b[39;00m\n\u001b[32m      2\u001b[39m fit2 = Holt(df_debit_val, exponential=\u001b[38;5;28;01mTrue\u001b[39;00m).fit()  \u001b[38;5;66;03m#exponential trend\u001b[39;00m\n\u001b[32m      3\u001b[39m plt.plot(df_debit_val, marker=\u001b[33m'\u001b[39m\u001b[33mo\u001b[39m\u001b[33m'\u001b[39m, color=\u001b[33m'\u001b[39m\u001b[33mblack\u001b[39m\u001b[33m'\u001b[39m)\n",
      "\u001b[36mFile \u001b[39m\u001b[32mc:\\Users\\Rushil Misra\\Documents\\projects\\Randomize Hackathon\\venv\\Lib\\site-packages\\pandas\\util\\_decorators.py:213\u001b[39m, in \u001b[36mdeprecate_kwarg.<locals>._deprecate_kwarg.<locals>.wrapper\u001b[39m\u001b[34m(*args, **kwargs)\u001b[39m\n\u001b[32m    211\u001b[39m         \u001b[38;5;28;01mraise\u001b[39;00m \u001b[38;5;167;01mTypeError\u001b[39;00m(msg)\n\u001b[32m    212\u001b[39m     kwargs[new_arg_name] = new_arg_value\n\u001b[32m--> \u001b[39m\u001b[32m213\u001b[39m \u001b[38;5;28;01mreturn\u001b[39;00m \u001b[43mfunc\u001b[49m\u001b[43m(\u001b[49m\u001b[43m*\u001b[49m\u001b[43margs\u001b[49m\u001b[43m,\u001b[49m\u001b[43m \u001b[49m\u001b[43m*\u001b[49m\u001b[43m*\u001b[49m\u001b[43mkwargs\u001b[49m\u001b[43m)\u001b[49m\n",
      "\u001b[36mFile \u001b[39m\u001b[32mc:\\Users\\Rushil Misra\\Documents\\projects\\Randomize Hackathon\\venv\\Lib\\site-packages\\statsmodels\\tsa\\holtwinters\\model.py:1706\u001b[39m, in \u001b[36mHolt.__init__\u001b[39m\u001b[34m(self, endog, exponential, damped_trend, initialization_method, initial_level, initial_trend)\u001b[39m\n\u001b[32m   1695\u001b[39m \u001b[38;5;129m@deprecate_kwarg\u001b[39m(\u001b[33m\"\u001b[39m\u001b[33mdamped\u001b[39m\u001b[33m\"\u001b[39m, \u001b[33m\"\u001b[39m\u001b[33mdamped_trend\u001b[39m\u001b[33m\"\u001b[39m)\n\u001b[32m   1696\u001b[39m \u001b[38;5;28;01mdef\u001b[39;00m\u001b[38;5;250m \u001b[39m\u001b[34m__init__\u001b[39m(\n\u001b[32m   1697\u001b[39m     \u001b[38;5;28mself\u001b[39m,\n\u001b[32m   (...)\u001b[39m\u001b[32m   1703\u001b[39m     initial_trend=\u001b[38;5;28;01mNone\u001b[39;00m,\n\u001b[32m   1704\u001b[39m ):\n\u001b[32m   1705\u001b[39m     trend = \u001b[33m\"\u001b[39m\u001b[33mmul\u001b[39m\u001b[33m\"\u001b[39m \u001b[38;5;28;01mif\u001b[39;00m exponential \u001b[38;5;28;01melse\u001b[39;00m \u001b[33m\"\u001b[39m\u001b[33madd\u001b[39m\u001b[33m\"\u001b[39m\n\u001b[32m-> \u001b[39m\u001b[32m1706\u001b[39m     \u001b[38;5;28;43msuper\u001b[39;49m\u001b[43m(\u001b[49m\u001b[43m)\u001b[49m\u001b[43m.\u001b[49m\u001b[34;43m__init__\u001b[39;49m\u001b[43m(\u001b[49m\n\u001b[32m   1707\u001b[39m \u001b[43m        \u001b[49m\u001b[43mendog\u001b[49m\u001b[43m,\u001b[49m\n\u001b[32m   1708\u001b[39m \u001b[43m        \u001b[49m\u001b[43mtrend\u001b[49m\u001b[43m=\u001b[49m\u001b[43mtrend\u001b[49m\u001b[43m,\u001b[49m\n\u001b[32m   1709\u001b[39m \u001b[43m        \u001b[49m\u001b[43mdamped_trend\u001b[49m\u001b[43m=\u001b[49m\u001b[43mdamped_trend\u001b[49m\u001b[43m,\u001b[49m\n\u001b[32m   1710\u001b[39m \u001b[43m        \u001b[49m\u001b[43minitialization_method\u001b[49m\u001b[43m=\u001b[49m\u001b[43minitialization_method\u001b[49m\u001b[43m,\u001b[49m\n\u001b[32m   1711\u001b[39m \u001b[43m        \u001b[49m\u001b[43minitial_level\u001b[49m\u001b[43m=\u001b[49m\u001b[43minitial_level\u001b[49m\u001b[43m,\u001b[49m\n\u001b[32m   1712\u001b[39m \u001b[43m        \u001b[49m\u001b[43minitial_trend\u001b[49m\u001b[43m=\u001b[49m\u001b[43minitial_trend\u001b[49m\u001b[43m,\u001b[49m\n\u001b[32m   1713\u001b[39m \u001b[43m    \u001b[49m\u001b[43m)\u001b[49m\n",
      "\u001b[36mFile \u001b[39m\u001b[32mc:\\Users\\Rushil Misra\\Documents\\projects\\Randomize Hackathon\\venv\\Lib\\site-packages\\pandas\\util\\_decorators.py:213\u001b[39m, in \u001b[36mdeprecate_kwarg.<locals>._deprecate_kwarg.<locals>.wrapper\u001b[39m\u001b[34m(*args, **kwargs)\u001b[39m\n\u001b[32m    211\u001b[39m         \u001b[38;5;28;01mraise\u001b[39;00m \u001b[38;5;167;01mTypeError\u001b[39;00m(msg)\n\u001b[32m    212\u001b[39m     kwargs[new_arg_name] = new_arg_value\n\u001b[32m--> \u001b[39m\u001b[32m213\u001b[39m \u001b[38;5;28;01mreturn\u001b[39;00m \u001b[43mfunc\u001b[49m\u001b[43m(\u001b[49m\u001b[43m*\u001b[49m\u001b[43margs\u001b[49m\u001b[43m,\u001b[49m\u001b[43m \u001b[49m\u001b[43m*\u001b[49m\u001b[43m*\u001b[49m\u001b[43mkwargs\u001b[49m\u001b[43m)\u001b[49m\n",
      "\u001b[36mFile \u001b[39m\u001b[32mc:\\Users\\Rushil Misra\\Documents\\projects\\Randomize Hackathon\\venv\\Lib\\site-packages\\statsmodels\\tsa\\holtwinters\\model.py:228\u001b[39m, in \u001b[36mExponentialSmoothing.__init__\u001b[39m\u001b[34m(self, endog, trend, damped_trend, seasonal, seasonal_periods, initialization_method, initial_level, initial_trend, initial_seasonal, use_boxcox, bounds, dates, freq, missing)\u001b[39m\n\u001b[32m    208\u001b[39m \u001b[38;5;129m@deprecate_kwarg\u001b[39m(\u001b[33m\"\u001b[39m\u001b[33mdamped\u001b[39m\u001b[33m\"\u001b[39m, \u001b[33m\"\u001b[39m\u001b[33mdamped_trend\u001b[39m\u001b[33m\"\u001b[39m)\n\u001b[32m    209\u001b[39m \u001b[38;5;28;01mdef\u001b[39;00m\u001b[38;5;250m \u001b[39m\u001b[34m__init__\u001b[39m(\n\u001b[32m    210\u001b[39m     \u001b[38;5;28mself\u001b[39m,\n\u001b[32m   (...)\u001b[39m\u001b[32m    225\u001b[39m     missing=\u001b[33m\"\u001b[39m\u001b[33mnone\u001b[39m\u001b[33m\"\u001b[39m,\n\u001b[32m    226\u001b[39m ):\n\u001b[32m    227\u001b[39m     \u001b[38;5;28msuper\u001b[39m().\u001b[34m__init__\u001b[39m(endog, \u001b[38;5;28;01mNone\u001b[39;00m, dates, freq, missing=missing)\n\u001b[32m--> \u001b[39m\u001b[32m228\u001b[39m     \u001b[38;5;28mself\u001b[39m._y = \u001b[38;5;28mself\u001b[39m._data = \u001b[43marray_like\u001b[49m\u001b[43m(\u001b[49m\n\u001b[32m    229\u001b[39m \u001b[43m        \u001b[49m\u001b[43mendog\u001b[49m\u001b[43m,\u001b[49m\u001b[43m \u001b[49m\u001b[33;43m\"\u001b[39;49m\u001b[33;43mendog\u001b[39;49m\u001b[33;43m\"\u001b[39;49m\u001b[43m,\u001b[49m\u001b[43m \u001b[49m\u001b[43mndim\u001b[49m\u001b[43m=\u001b[49m\u001b[32;43m1\u001b[39;49m\u001b[43m,\u001b[49m\u001b[43m \u001b[49m\u001b[43mcontiguous\u001b[49m\u001b[43m=\u001b[49m\u001b[38;5;28;43;01mTrue\u001b[39;49;00m\u001b[43m,\u001b[49m\u001b[43m \u001b[49m\u001b[43morder\u001b[49m\u001b[43m=\u001b[49m\u001b[33;43m\"\u001b[39;49m\u001b[33;43mC\u001b[39;49m\u001b[33;43m\"\u001b[39;49m\n\u001b[32m    230\u001b[39m \u001b[43m    \u001b[49m\u001b[43m)\u001b[49m\n\u001b[32m    231\u001b[39m     options = (\u001b[33m\"\u001b[39m\u001b[33madd\u001b[39m\u001b[33m\"\u001b[39m, \u001b[33m\"\u001b[39m\u001b[33mmul\u001b[39m\u001b[33m\"\u001b[39m, \u001b[33m\"\u001b[39m\u001b[33madditive\u001b[39m\u001b[33m\"\u001b[39m, \u001b[33m\"\u001b[39m\u001b[33mmultiplicative\u001b[39m\u001b[33m\"\u001b[39m)\n\u001b[32m    232\u001b[39m     trend = string_like(trend, \u001b[33m\"\u001b[39m\u001b[33mtrend\u001b[39m\u001b[33m\"\u001b[39m, options=options, optional=\u001b[38;5;28;01mTrue\u001b[39;00m)\n",
      "\u001b[36mFile \u001b[39m\u001b[32mc:\\Users\\Rushil Misra\\Documents\\projects\\Randomize Hackathon\\venv\\Lib\\site-packages\\statsmodels\\tools\\validation\\validation.py:155\u001b[39m, in \u001b[36marray_like\u001b[39m\u001b[34m(obj, name, dtype, ndim, maxdim, shape, order, contiguous, optional, writeable)\u001b[39m\n\u001b[32m    153\u001b[39m     \u001b[38;5;28;01mif\u001b[39;00m arr.ndim != ndim:\n\u001b[32m    154\u001b[39m         msg = \u001b[33m\"\u001b[39m\u001b[38;5;132;01m{0}\u001b[39;00m\u001b[33m is required to have ndim \u001b[39m\u001b[38;5;132;01m{1}\u001b[39;00m\u001b[33m but has ndim \u001b[39m\u001b[38;5;132;01m{2}\u001b[39;00m\u001b[33m\"\u001b[39m\n\u001b[32m--> \u001b[39m\u001b[32m155\u001b[39m         \u001b[38;5;28;01mraise\u001b[39;00m \u001b[38;5;167;01mValueError\u001b[39;00m(msg.format(name, ndim, arr.ndim))\n\u001b[32m    156\u001b[39m \u001b[38;5;28;01mif\u001b[39;00m shape \u001b[38;5;129;01mis\u001b[39;00m \u001b[38;5;129;01mnot\u001b[39;00m \u001b[38;5;28;01mNone\u001b[39;00m:\n\u001b[32m    157\u001b[39m     \u001b[38;5;28;01mfor\u001b[39;00m actual, req \u001b[38;5;129;01min\u001b[39;00m \u001b[38;5;28mzip\u001b[39m(arr.shape, shape):\n",
      "\u001b[31mValueError\u001b[39m: endog is required to have ndim 1 but has ndim 2"
     ]
    }
   ],
   "source": [
    "fit1 = Holt(df_debit_val).fit()  #linear trend\n",
    "fit2 = Holt(df_debit_val, exponential=True).fit()  #exponential trend\n",
    "plt.plot(df_debit_val, marker='o', color='black')\n",
    "plt.plot(fit1.fittedvalues, marker='o', color='b')\n",
    "plt.plot(fit2.fittedvalues, marker='o', color='r')\n",
    "plt.xticks(rotation=\"vertical\")\n",
    "plt.show()"
   ]
  },
  {
   "cell_type": "code",
   "execution_count": null,
   "metadata": {},
   "outputs": [],
   "source": []
  }
 ],
 "metadata": {
  "kernelspec": {
   "display_name": "venv",
   "language": "python",
   "name": "python3"
  },
  "language_info": {
   "codemirror_mode": {
    "name": "ipython",
    "version": 3
   },
   "file_extension": ".py",
   "mimetype": "text/x-python",
   "name": "python",
   "nbconvert_exporter": "python",
   "pygments_lexer": "ipython3",
   "version": "3.12.8"
  }
 },
 "nbformat": 4,
 "nbformat_minor": 2
}
